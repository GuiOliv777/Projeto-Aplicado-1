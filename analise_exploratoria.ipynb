{
 "cells": [
  {
   "cell_type": "code",
   "execution_count": null,
   "id": "a75cc3bb-1aa5-4ff0-a0f8-b58c3bc0bd4c",
   "metadata": {},
   "outputs": [],
   "source": [
    "# Análise Exploratória dos Dados de Vendas do Walmart\n",
    "\n",
    "#Este notebook realiza uma análise exploratória dos dados de vendas do Walmart."
   ]
  },
  {
   "cell_type": "code",
   "execution_count": null,
   "id": "2486f497-0c24-4699-8a84-bf3019aa3ecd",
   "metadata": {},
   "outputs": [],
   "source": [
    "import matplotlib.pyplot as plt\n",
    "import pandas as pd\n",
    "import seaborn as sns"
   ]
  },
  {
   "cell_type": "code",
   "execution_count": null,
   "id": "eec4b6cb-9c3c-49fe-860a-1d9fddfcc47d",
   "metadata": {},
   "outputs": [],
   "source": [
    "# definir caminho do arquivo\n",
    "data_path = 'C:\\\\Users\\\\lealg\\\\OneDrive\\\\Mackenzie Ciencia de Dados\\\\2 Semestre\\\\Projeto Aplicado I\\\\Walmart_Sales.csv'\n",
    "\n",
    "# carregar o arquivo\n",
    "df = pd.read_csv(data_path)"
   ]
  },
  {
   "cell_type": "code",
   "execution_count": null,
   "id": "39b8eb2d-9746-4e1f-83ff-fe4b841be2c8",
   "metadata": {},
   "outputs": [],
   "source": [
    "# Preparar dados:\n",
    "# Converter a coluna 'Date' para o tipo 'datetime'\n",
    "df['Date'] = pd.to_datetime(df['Date'], dayfirst=True)\n",
    "# converter Coluna de Temperatura para ° Celcius\n",
    "df['Temperature'] = (df['Temperature'] - 32) * 5/9"
   ]
  },
  {
   "cell_type": "code",
   "execution_count": null,
   "id": "4b152672-243c-4448-bc5d-e75555d60bce",
   "metadata": {},
   "outputs": [],
   "source": [
    "# Analise exploratória\n",
    "# primeiras linhas\n",
    "print(df.head())\n",
    "# infosGerais\n",
    "print(df.info())\n",
    "# descrição\n",
    "print(df.describe())\n",
    "# médias\n",
    "print(df[['Weekly_Sales', 'Temperature', 'Fuel_Price', 'CPI',\n",
    "      'Unemployment']].mean().apply(lambda x: \"{:,.2f}\".format(x)))\n",
    "# medianas\n",
    "print(df[['Weekly_Sales', 'Temperature', 'Fuel_Price', 'CPI',\n",
    "      'Unemployment']].median().apply(lambda x: \"{:,.2f}\".format(x)))\n",
    "# maximos\n",
    "print(df[['Weekly_Sales', 'Temperature', 'Fuel_Price', 'CPI',\n",
    "      'Unemployment']].max().apply(lambda x: \"{:,.2f}\".format(x)))\n",
    "# minimos\n",
    "print(df[['Weekly_Sales', 'Temperature', 'Fuel_Price', 'CPI',\n",
    "      'Unemployment']].min().apply(lambda x: \"{:,.2f}\".format(x)))"
   ]
  },
  {
   "cell_type": "code",
   "execution_count": null,
   "id": "9f604244-ca86-4ed1-956a-be9a8d0beb15",
   "metadata": {},
   "outputs": [],
   "source": [
    "# matriz de Correlação\n",
    "# Configurar o estilo dos gráficos\n",
    "sns.set(style=\"whitegrid\")\n",
    "\n",
    "# Criar uma matriz de correlação ignorando as colunas 'Store' e 'Date'\n",
    "correlation_matrix = df.drop(['Store', 'Date'], axis=1).corr()\n",
    "\n",
    "# Gerar um mapa de calor da matriz de correlação\n",
    "plt.figure(figsize=(10, 8))\n",
    "sns.heatmap(correlation_matrix, annot=True, cmap='coolwarm', linewidths=0.5)\n",
    "plt.title('Matriz de Correlação')\n",
    "plt.show()\n"
   ]
  }
 ],
 "metadata": {
  "kernelspec": {
   "display_name": "Python 3 (ipykernel)",
   "language": "python",
   "name": "python3"
  },
  "language_info": {
   "codemirror_mode": {
    "name": "ipython",
    "version": 3
   },
   "file_extension": ".py",
   "mimetype": "text/x-python",
   "name": "python",
   "nbconvert_exporter": "python",
   "pygments_lexer": "ipython3",
   "version": "3.13.2"
  }
 },
 "nbformat": 4,
 "nbformat_minor": 5
}
